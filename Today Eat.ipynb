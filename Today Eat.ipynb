{
 "cells": [
  {
   "cell_type": "code",
   "execution_count": 7,
   "id": "08885a7e",
   "metadata": {},
   "outputs": [
    {
     "name": "stdout",
     "output_type": "stream",
     "text": [
      "['치킨마요', '돈까스', '제육덮밥', '볶음우동']\n",
      "음식을 추가 해주세요 : 부대찌개\n",
      "['치킨마요', '돈까스', '제육덮밥', '볶음우동', '부대찌개']\n",
      "음식을 추가 해주세요 : 김밥\n",
      "['치킨마요', '돈까스', '제육덮밥', '볶음우동', '부대찌개', '김밥']\n",
      "음식을 추가 해주세요 : 햄버거\n",
      "['치킨마요', '돈까스', '제육덮밥', '볶음우동', '부대찌개', '김밥', '햄버거']\n",
      "음식을 추가 해주세요 : q\n",
      "['치킨마요', '돈까스', '제육덮밥', '볶음우동', '부대찌개', '김밥', '햄버거']\n",
      "{'부대찌개', '제육덮밥', '김밥', '돈까스', '햄버거', '치킨마요', '볶음우동'}\n",
      "음식을 삭제해주세요 : 제육덮밥\n",
      "{'부대찌개', '김밥', '돈까스', '햄버거', '치킨마요', '볶음우동'}\n",
      "음식을 삭제해주세요 : 볶음우동\n",
      "{'부대찌개', '김밥', '돈까스', '햄버거', '치킨마요'}\n",
      "음식을 삭제해주세요 : q\n",
      "{'부대찌개', '김밥', '돈까스', '햄버거', '치킨마요'} 중에서 선택합니다.\n",
      "5\n",
      "4\n",
      "3\n",
      "2\n",
      "1\n",
      "돈까스\n"
     ]
    }
   ],
   "source": [
    "import random\n",
    "import time\n",
    "\n",
    "lunch = [\"치킨마요\", \"돈까스\", \"제육덮밥\", \"볶음우동\"]\n",
    "\n",
    "while True:\n",
    "    print(lunch)\n",
    "    item = input(\"음식을 추가 해주세요 : \")\n",
    "    if(item == 'q'):\n",
    "        break\n",
    "    else:\n",
    "        lunch.append(item)\n",
    "print(lunch)\n",
    "\n",
    "set_lunch = set(lunch)\n",
    "while True:\n",
    "    print(set_lunch)\n",
    "    item = input(\"음식을 삭제해주세요 : \")\n",
    "    if(item == 'q'):\n",
    "        break\n",
    "    else:\n",
    "        set_lunch = set_lunch - set([item])\n",
    "        \n",
    "print(set_lunch, \"중에서 선택합니다.\")\n",
    "print(\"5\")\n",
    "time.sleep(1)\n",
    "print(\"4\")\n",
    "time.sleep(1)\n",
    "print(\"3\")\n",
    "time.sleep(1)\n",
    "print(\"2\")\n",
    "time.sleep(1)\n",
    "print(\"1\")\n",
    "time.sleep(1)\n",
    "print(random.choice(list(set_lunch)))"
   ]
  },
  {
   "cell_type": "code",
   "execution_count": null,
   "id": "c2cc4e46",
   "metadata": {},
   "outputs": [],
   "source": []
  }
 ],
 "metadata": {
  "kernelspec": {
   "display_name": "Python 3 (ipykernel)",
   "language": "python",
   "name": "python3"
  },
  "language_info": {
   "codemirror_mode": {
    "name": "ipython",
    "version": 3
   },
   "file_extension": ".py",
   "mimetype": "text/x-python",
   "name": "python",
   "nbconvert_exporter": "python",
   "pygments_lexer": "ipython3",
   "version": "3.9.7"
  }
 },
 "nbformat": 4,
 "nbformat_minor": 5
}
