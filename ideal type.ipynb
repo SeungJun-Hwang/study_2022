{
 "cells": [
  {
   "cell_type": "code",
   "execution_count": 5,
   "id": "c67034ec",
   "metadata": {},
   "outputs": [
    {
     "name": "stdout",
     "output_type": "stream",
     "text": [
      "질문을 입력해주세요 : 취미는?\n",
      "질문을 입력해주세요 : 특기는?\n",
      "질문을 입력해주세요 : 사는 곳은?\n",
      "질문을 입력해주세요 : q\n",
      "취미는?\n",
      "답변을 입력해주세요 : 멍 때리기\n",
      "특기는?\n",
      "답변을 입력해주세요 : 멍 때리기\n",
      "사는 곳은?\n",
      "답변을 입력해주세요 : 혜화\n",
      "[{'질문': '취미는?', '답변': '멍 때리기'}, {'질문': '특기는?', '답변': '멍 때리기'}, {'질문': '사는 곳은?', '답변': '혜화'}]\n"
     ]
    }
   ],
   "source": [
    "total_list = []\n",
    "\n",
    "while True:\n",
    "    question = input(\"질문을 입력해주세요 : \")\n",
    "    if question == \"q\":\n",
    "        break\n",
    "    else:\n",
    "        total_list.append({\"질문\" : question, \"답변\" : \"\"})\n",
    "        \n",
    "for i in total_list:\n",
    "    print(i[\"질문\"])\n",
    "    answer = input(\"답변을 입력해주세요 : \")\n",
    "    i[\"답변\"] = answer\n",
    "print(total_list)\n"
   ]
  },
  {
   "cell_type": "code",
   "execution_count": null,
   "id": "de75791d",
   "metadata": {},
   "outputs": [],
   "source": []
  }
 ],
 "metadata": {
  "kernelspec": {
   "display_name": "Python 3 (ipykernel)",
   "language": "python",
   "name": "python3"
  },
  "language_info": {
   "codemirror_mode": {
    "name": "ipython",
    "version": 3
   },
   "file_extension": ".py",
   "mimetype": "text/x-python",
   "name": "python",
   "nbconvert_exporter": "python",
   "pygments_lexer": "ipython3",
   "version": "3.9.7"
  }
 },
 "nbformat": 4,
 "nbformat_minor": 5
}
